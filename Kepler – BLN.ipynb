{
 "cells": [
  {
   "cell_type": "code",
   "execution_count": 4,
   "metadata": {},
   "outputs": [],
   "source": [
    "import scrapy\n",
    "from scrapy import Selector\n",
    "import requests\n",
    "import pandas as pd\n",
    "import time\n",
    "\n",
    "pd.set_option('display.width', 1500)"
   ]
  },
  {
   "cell_type": "code",
   "execution_count": 12,
   "metadata": {},
   "outputs": [],
   "source": [
    "def get_listings():\n",
    "    url = 'https://www.wg-gesucht.de/1-zimmer-wohnungen-und-wohnungen-in-Berlin.8.1+2.1.0.html#back_to_ad_9161625'\n",
    "    html = requests.get(url).text\n",
    "    sel = Selector(text = html)\n",
    "    listings_list = list(sel.xpath('//*[contains(@class,\"wgg_card offer_list_item  \")]/div/div/a/@href').extract())\n",
    "    listings_list = list(set(listings_list))\n",
    "    return [listing for listing in listings_list if listing.endswith('html')]"
   ]
  },
  {
   "cell_type": "code",
   "execution_count": 13,
   "metadata": {},
   "outputs": [],
   "source": [
    "def scrape_wg_gesucht_data(input_list):\n",
    "    \"\"\"Function for scraping data from each individual listing.\"\"\"\n",
    "    appended_data = []\n",
    "    counter = 0\n",
    "    for listing in input_list:\n",
    "        try:\n",
    "            print(listing)\n",
    "            #try:\n",
    "            listing_html = 'https://www.wg-gesucht.de/'+listing\n",
    "            html = requests.get(listing_html).text\n",
    "            sel = Selector(text = html)\n",
    "            apartment_dict = {}\n",
    "            print('listing...', end = ' ')\n",
    "            apartment_dict['url'] = listing\n",
    "            #1. listing size\n",
    "            print('size...', end = ' ')\n",
    "            apartment_dict['size'] = sel.xpath('//*[contains(@class,\"headline headline-key-facts\")]/text()').extract()[0].strip() \n",
    "            #2. rent\n",
    "            print('rent...', end = ' ')\n",
    "            apartment_dict['rent'] = sel.xpath('//*[contains(@class,\"headline headline-key-facts\")]/text()').extract()[2].strip()   \n",
    "            #3. rooms\n",
    "            print('rooms...', end = ' ')\n",
    "            if len(sel.xpath('//*[contains(@class,\"headline headline-key-facts\")]/text()').extract()) == 6:\n",
    "                apartment_dict['rooms'] = sel.xpath('//*[contains(@class,\"headline headline-key-facts\")]/text()').extract()[4].strip()\n",
    "            else:\n",
    "                pass\n",
    "            #4. floor\n",
    "            #print('floor...', end = ' ')\n",
    "            #raw_floor = sel.xpath('//*[contains(@class,\"col-xs-6 col-sm-4 text-center print_text_left\")]/text()').extract()[2]\n",
    "            #apartment_dict['floor'] = ''.join(raw_floor.split())\n",
    "            #5. deposit\n",
    "            print('deposit...', end = ' ')\n",
    "            if sel.xpath('//*[contains(@id,\"kaution\")]/@value') != []:\n",
    "                apartment_dict['deposit'] = sel.xpath('//*[contains(@id,\"kaution\")]/@value').extract()[0]\n",
    "            else:\n",
    "                pass\n",
    "            #6. address_street\n",
    "            print('street...', end = ' ')\n",
    "            raw_street = sel.xpath('//*[contains(@class,\"col-sm-4 mb10\")]/a/text()').extract()[0]\n",
    "            apartment_dict['street'] = ' '.join(raw_street.split())\n",
    "            #7. district\n",
    "            print('location...', end = ' ')\n",
    "            raw_district = sel.xpath('//*[contains(@class,\"col-sm-4 mb10\")]/a/text()').extract()[1]\n",
    "            apartment_dict['location'] = ' '.join(raw_district.split())\n",
    "            #8. available_from\n",
    "            print('available from...', end = ' ')\n",
    "            apartment_dict['available_from'] = sel.xpath('//*[contains(@class,\"col-sm-3\")]/p/b/text()').extract()[0]\n",
    "            #9. term\n",
    "            #available_until\n",
    "            print('available until...')\n",
    "            if 'frei bis:' in [item.strip() for item in sel.xpath('//*[contains(@class,\"col-sm-3\")]/p/text()').extract()]:\n",
    "                output_term = sel.xpath('//*[contains(@class,\"col-sm-3\")]/p/b/text()').extract()[1]\n",
    "            else:\n",
    "                output_term = 'unlimited'\n",
    "            apartment_dict['available_until'] = output_term\n",
    "            #10. tausch\n",
    "            if 'Tauschangebot' in [item.strip() for item in sel.xpath('//*[contains(@class,\"col-sm-3\")]/p/text()').extract()]:\n",
    "                tausch = True\n",
    "            else:\n",
    "                tausch = False\n",
    "            apartment_dict['tausch'] = tausch\n",
    "            appended_data.append(apartment_dict)\n",
    "            counter = counter+1\n",
    "            if counter%10 == 0:\n",
    "                print('Aggregated listings: {}.'.format(counter), end = ' ')\n",
    "                time.sleep(10)\n",
    "        except:\n",
    "            listing+' passed!'\n",
    "            pass\n",
    "    df = pd.DataFrame(appended_data)\n",
    "    df = df.reset_index().rename(columns = {'index':'id'})\n",
    "    return df"
   ]
  },
  {
   "cell_type": "code",
   "execution_count": 14,
   "metadata": {},
   "outputs": [],
   "source": [
    "def clean_and_filter_gesucht_data(final_df):\n",
    "    final_df['size'] = [int(size.strip('m²')) for size in final_df['size']]\n",
    "    final_df['rent'] = [int(rent.strip('€')) for rent in final_df['rent']]\n",
    "    final_df['district'] = [location.split(' ')[-1] for location in final_df['location']]\n",
    "    final_df['zipcode'] = [location.split(' ')[0] for location in final_df['location']]\n",
    "    filtered_df = final_df[(final_df['rent'] < 1500) &\n",
    "                       (final_df['available_until'] == 'unlimited') &\n",
    "                       (final_df['tausch'] == False)]\n",
    "                       #(final_df['district'].isin(['Pankow','Charlottenburg','Mitte','Berg','Wedding']))]\n",
    "    filtered_df = filtered_df[['url','size','rent','rooms','deposit','street','district','zipcode','available_from']]\n",
    "    return filtered_df"
   ]
  },
  {
   "cell_type": "code",
   "execution_count": 15,
   "metadata": {},
   "outputs": [],
   "source": [
    "listings_list = get_listings()"
   ]
  },
  {
   "cell_type": "code",
   "execution_count": 24,
   "metadata": {},
   "outputs": [
    {
     "name": "stdout",
     "output_type": "stream",
     "text": [
      "/1-zimmer-wohnungen-in-Berlin-Kreuzkoelln.9448907.html\n",
      "listing... size... rent... rooms... deposit... street... location... available from... available until...\n",
      "/wohnungen-in-Berlin-Kreuzberg.8407675.html\n",
      "listing... size... rent... rooms... deposit... street... location... available from... available until...\n",
      "/wohnungen-in-Berlin-Wedding.9455486.html\n",
      "listing... size... rent... rooms... deposit... street... location... available from... available until...\n",
      "/1-zimmer-wohnungen-in-Berlin-Steglitz-Zehlendorf.8388544.html\n",
      "listing... size... rent... rooms... deposit... street... location... available from... available until...\n",
      "/wohnungen-in-Berlin-Kreuzberg.8486664.html\n",
      "listing... size... rent... rooms... deposit... street... location... available from... available until...\n",
      "/1-zimmer-wohnungen-in-Berlin-Lichtenberg.9468790.html\n",
      "listing... size... rent... rooms... deposit... street... location... available from... available until...\n",
      "/1-zimmer-wohnungen-in-Berlin-Friedrichshain.8087001.html\n",
      "listing... size... rent... rooms... deposit... street... location... available from... available until...\n",
      "/wohnungen-in-Berlin-Friedrichshain.9224060.html\n",
      "listing... size... rent... rooms... deposit... street... location... available from... available until...\n",
      "/1-zimmer-wohnungen-in-Berlin-Lichtenberg.9461347.html\n",
      "listing... size... rent... rooms... deposit... street... location... available from... available until...\n",
      "/1-zimmer-wohnungen-in-Berlin-Kreuzberg.9413081.html\n",
      "listing... size... rent... rooms... deposit... street... location... available from... available until...\n",
      "Aggregated listings: 10. /wohnungen-in-Berlin-Pankow.9458795.html\n",
      "listing... size... rent... rooms... deposit... street... location... available from... available until...\n",
      "/wohnungen-in-Berlin-Prenzlauer-Berg.8765392.html\n",
      "listing... size... rent... rooms... deposit... street... location... available from... available until...\n",
      "/wohnungen-in-Berlin-Friedrichshain.9437680.html\n",
      "listing... size... rent... rooms... deposit... street... location... available from... available until...\n",
      "/1-zimmer-wohnungen-in-Berlin-Kreuzberg.9161625.html\n",
      "listing... size... rent... rooms... deposit... street... location... available from... available until...\n",
      "/wohnungen-in-Berlin-Wedding.9425513.html\n",
      "listing... size... rent... rooms... deposit... street... location... available from... available until...\n",
      "/wohnungen-in-Berlin-Pankow.9457146.html\n",
      "listing... size... rent... rooms... deposit... street... location... available from... available until...\n",
      "/wohnungen-in-Berlin-Prenzlauer-Berg.8786344.html\n",
      "listing... size... rent... rooms... deposit... street... location... available from... available until...\n",
      "/wohnungen-in-Berlin-Charlottenburg.9458336.html\n",
      "listing... size... rent... rooms... deposit... street... location... available from... available until...\n",
      "/1-zimmer-wohnungen-in-Berlin-Lankwitz.8418556.html\n",
      "listing... size... rent... rooms... deposit... street... location... available from... available until...\n",
      "/1-zimmer-wohnungen-in-Berlin-Friedrichshain.5266910.html\n",
      "listing... size... rent... rooms... deposit... street... location... available from... available until...\n",
      "Aggregated listings: 20. "
     ]
    }
   ],
   "source": [
    "final_df = scrape_wg_gesucht_data(listings_list)"
   ]
  },
  {
   "cell_type": "code",
   "execution_count": 26,
   "metadata": {},
   "outputs": [],
   "source": [
    "filtered_df = clean_and_filter_gesucht_data(final_df)"
   ]
  },
  {
   "cell_type": "code",
   "execution_count": 27,
   "metadata": {},
   "outputs": [
    {
     "data": {
      "text/html": [
       "<div>\n",
       "<style scoped>\n",
       "    .dataframe tbody tr th:only-of-type {\n",
       "        vertical-align: middle;\n",
       "    }\n",
       "\n",
       "    .dataframe tbody tr th {\n",
       "        vertical-align: top;\n",
       "    }\n",
       "\n",
       "    .dataframe thead th {\n",
       "        text-align: right;\n",
       "    }\n",
       "</style>\n",
       "<table border=\"1\" class=\"dataframe\">\n",
       "  <thead>\n",
       "    <tr style=\"text-align: right;\">\n",
       "      <th></th>\n",
       "      <th>url</th>\n",
       "      <th>size</th>\n",
       "      <th>rent</th>\n",
       "      <th>rooms</th>\n",
       "      <th>deposit</th>\n",
       "      <th>street</th>\n",
       "      <th>district</th>\n",
       "      <th>zipcode</th>\n",
       "      <th>available_from</th>\n",
       "    </tr>\n",
       "  </thead>\n",
       "  <tbody>\n",
       "    <tr>\n",
       "      <th>3</th>\n",
       "      <td>/1-zimmer-wohnungen-in-Berlin-Steglitz-Zehlend...</td>\n",
       "      <td>26</td>\n",
       "      <td>450</td>\n",
       "      <td>NaN</td>\n",
       "      <td>400</td>\n",
       "      <td>Mühlenstraße 57</td>\n",
       "      <td>Steglitz-Zehlendorf</td>\n",
       "      <td>12249</td>\n",
       "      <td>16.07.2022</td>\n",
       "    </tr>\n",
       "  </tbody>\n",
       "</table>\n",
       "</div>"
      ],
      "text/plain": [
       "                                                 url  size  rent rooms deposit           street             district zipcode available_from\n",
       "3  /1-zimmer-wohnungen-in-Berlin-Steglitz-Zehlend...    26   450   NaN     400  Mühlenstraße 57  Steglitz-Zehlendorf   12249     16.07.2022"
      ]
     },
     "execution_count": 27,
     "metadata": {},
     "output_type": "execute_result"
    }
   ],
   "source": [
    "filtered_df"
   ]
  },
  {
   "cell_type": "code",
   "execution_count": null,
   "metadata": {},
   "outputs": [],
   "source": []
  },
  {
   "cell_type": "code",
   "execution_count": null,
   "metadata": {},
   "outputs": [],
   "source": []
  }
 ],
 "metadata": {
  "interpreter": {
   "hash": "40d3a090f54c6569ab1632332b64b2c03c39dcf918b08424e98f38b5ae0af88f"
  },
  "kernelspec": {
   "display_name": "Python 3.7.4 ('base')",
   "language": "python",
   "name": "python3"
  },
  "language_info": {
   "codemirror_mode": {
    "name": "ipython",
    "version": 3
   },
   "file_extension": ".py",
   "mimetype": "text/x-python",
   "name": "python",
   "nbconvert_exporter": "python",
   "pygments_lexer": "ipython3",
   "version": "3.7.4"
  },
  "orig_nbformat": 4
 },
 "nbformat": 4,
 "nbformat_minor": 2
}
